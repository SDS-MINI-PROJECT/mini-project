{
 "cells": [
  {
   "cell_type": "markdown",
   "metadata": {},
   "source": [
    "### Importing the required libraries for various operations:"
   ]
  },
  {
   "cell_type": "code",
   "execution_count": 1,
   "metadata": {},
   "outputs": [],
   "source": [
    "import pandas as pd\n",
    "import matplotlib.pyplot as plt\n",
    "import numpy as np\n",
    "import seaborn as sns\n",
    "import statistics as st\n",
    "import random\n",
    "import math\n",
    "from IPython.display import Markdown, display"
   ]
  },
  {
   "cell_type": "code",
   "execution_count": 2,
   "metadata": {},
   "outputs": [],
   "source": [
    "### Print the following string in .md syntax\n",
    "def printmd(string):\n",
    "    display(Markdown(string))"
   ]
  },
  {
   "cell_type": "markdown",
   "metadata": {},
   "source": [
    "### Weather dataset containing a month's weather data in which data is generated per hour"
   ]
  },
  {
   "cell_type": "code",
   "execution_count": 3,
   "metadata": {},
   "outputs": [],
   "source": [
    "df=pd.read_csv('weatherHistory.csv')"
   ]
  },
  {
   "cell_type": "markdown",
   "metadata": {},
   "source": [
    "# 1. exploratory data analysis"
   ]
  },
  {
   "cell_type": "markdown",
   "metadata": {},
   "source": [
    "## a. description of dataset"
   ]
  },
  {
   "cell_type": "markdown",
   "metadata": {},
   "source": [
    "### i. displaying the whole dataset"
   ]
  },
  {
   "cell_type": "code",
   "execution_count": 4,
   "metadata": {},
   "outputs": [
    {
     "data": {
      "text/html": [
       "<div>\n",
       "<style scoped>\n",
       "    .dataframe tbody tr th:only-of-type {\n",
       "        vertical-align: middle;\n",
       "    }\n",
       "\n",
       "    .dataframe tbody tr th {\n",
       "        vertical-align: top;\n",
       "    }\n",
       "\n",
       "    .dataframe thead th {\n",
       "        text-align: right;\n",
       "    }\n",
       "</style>\n",
       "<table border=\"1\" class=\"dataframe\">\n",
       "  <thead>\n",
       "    <tr style=\"text-align: right;\">\n",
       "      <th></th>\n",
       "      <th>Formatted Date</th>\n",
       "      <th>Summary</th>\n",
       "      <th>Precip Type</th>\n",
       "      <th>Temperature (C)</th>\n",
       "      <th>Apparent Temperature (C)</th>\n",
       "      <th>Humidity</th>\n",
       "      <th>Wind Speed (km/h)</th>\n",
       "      <th>Wind Bearing (degrees)</th>\n",
       "      <th>Visibility (km)</th>\n",
       "      <th>Loud Cover</th>\n",
       "      <th>Pressure (millibars)</th>\n",
       "      <th>Daily Summary</th>\n",
       "    </tr>\n",
       "  </thead>\n",
       "  <tbody>\n",
       "    <tr>\n",
       "      <th>0</th>\n",
       "      <td>2016-09-01 00:00:00.000 +0200</td>\n",
       "      <td>Clear</td>\n",
       "      <td>rain</td>\n",
       "      <td>16.344444</td>\n",
       "      <td>16.344444</td>\n",
       "      <td>0.60</td>\n",
       "      <td>6.1502</td>\n",
       "      <td>40.0</td>\n",
       "      <td>16.1000</td>\n",
       "      <td>0.0</td>\n",
       "      <td>1022.16</td>\n",
       "      <td>Partly cloudy starting in the morning continui...</td>\n",
       "    </tr>\n",
       "    <tr>\n",
       "      <th>1</th>\n",
       "      <td>2016-09-01 01:00:00.000 +0200</td>\n",
       "      <td>Clear</td>\n",
       "      <td>rain</td>\n",
       "      <td>15.788889</td>\n",
       "      <td>15.788889</td>\n",
       "      <td>0.62</td>\n",
       "      <td>6.1019</td>\n",
       "      <td>69.0</td>\n",
       "      <td>16.1000</td>\n",
       "      <td>0.0</td>\n",
       "      <td>1022.05</td>\n",
       "      <td>Partly cloudy starting in the morning continui...</td>\n",
       "    </tr>\n",
       "    <tr>\n",
       "      <th>2</th>\n",
       "      <td>2016-09-01 02:00:00.000 +0200</td>\n",
       "      <td>Clear</td>\n",
       "      <td>rain</td>\n",
       "      <td>13.344444</td>\n",
       "      <td>13.344444</td>\n",
       "      <td>0.73</td>\n",
       "      <td>3.2522</td>\n",
       "      <td>56.0</td>\n",
       "      <td>15.1823</td>\n",
       "      <td>0.0</td>\n",
       "      <td>1021.85</td>\n",
       "      <td>Partly cloudy starting in the morning continui...</td>\n",
       "    </tr>\n",
       "    <tr>\n",
       "      <th>3</th>\n",
       "      <td>2016-09-01 03:00:00.000 +0200</td>\n",
       "      <td>Clear</td>\n",
       "      <td>rain</td>\n",
       "      <td>12.611111</td>\n",
       "      <td>12.611111</td>\n",
       "      <td>0.75</td>\n",
       "      <td>3.2200</td>\n",
       "      <td>20.0</td>\n",
       "      <td>16.1000</td>\n",
       "      <td>0.0</td>\n",
       "      <td>1021.84</td>\n",
       "      <td>Partly cloudy starting in the morning continui...</td>\n",
       "    </tr>\n",
       "    <tr>\n",
       "      <th>4</th>\n",
       "      <td>2016-09-01 04:00:00.000 +0200</td>\n",
       "      <td>Clear</td>\n",
       "      <td>rain</td>\n",
       "      <td>12.038889</td>\n",
       "      <td>12.038889</td>\n",
       "      <td>0.78</td>\n",
       "      <td>0.0000</td>\n",
       "      <td>0.0</td>\n",
       "      <td>16.1000</td>\n",
       "      <td>0.0</td>\n",
       "      <td>1021.84</td>\n",
       "      <td>Partly cloudy starting in the morning continui...</td>\n",
       "    </tr>\n",
       "    <tr>\n",
       "      <th>...</th>\n",
       "      <td>...</td>\n",
       "      <td>...</td>\n",
       "      <td>...</td>\n",
       "      <td>...</td>\n",
       "      <td>...</td>\n",
       "      <td>...</td>\n",
       "      <td>...</td>\n",
       "      <td>...</td>\n",
       "      <td>...</td>\n",
       "      <td>...</td>\n",
       "      <td>...</td>\n",
       "      <td>...</td>\n",
       "    </tr>\n",
       "    <tr>\n",
       "      <th>715</th>\n",
       "      <td>2016-09-09 19:00:00.000 +0200</td>\n",
       "      <td>Partly Cloudy</td>\n",
       "      <td>rain</td>\n",
       "      <td>26.016667</td>\n",
       "      <td>26.016667</td>\n",
       "      <td>0.43</td>\n",
       "      <td>10.9963</td>\n",
       "      <td>31.0</td>\n",
       "      <td>16.1000</td>\n",
       "      <td>0.0</td>\n",
       "      <td>1014.36</td>\n",
       "      <td>Partly cloudy starting in the morning.</td>\n",
       "    </tr>\n",
       "    <tr>\n",
       "      <th>716</th>\n",
       "      <td>2016-09-09 20:00:00.000 +0200</td>\n",
       "      <td>Partly Cloudy</td>\n",
       "      <td>rain</td>\n",
       "      <td>24.583333</td>\n",
       "      <td>24.583333</td>\n",
       "      <td>0.48</td>\n",
       "      <td>10.0947</td>\n",
       "      <td>20.0</td>\n",
       "      <td>15.5526</td>\n",
       "      <td>0.0</td>\n",
       "      <td>1015.16</td>\n",
       "      <td>Partly cloudy starting in the morning.</td>\n",
       "    </tr>\n",
       "    <tr>\n",
       "      <th>717</th>\n",
       "      <td>2016-09-09 21:00:00.000 +0200</td>\n",
       "      <td>Partly Cloudy</td>\n",
       "      <td>rain</td>\n",
       "      <td>22.038889</td>\n",
       "      <td>22.038889</td>\n",
       "      <td>0.56</td>\n",
       "      <td>8.9838</td>\n",
       "      <td>30.0</td>\n",
       "      <td>16.1000</td>\n",
       "      <td>0.0</td>\n",
       "      <td>1015.66</td>\n",
       "      <td>Partly cloudy starting in the morning.</td>\n",
       "    </tr>\n",
       "    <tr>\n",
       "      <th>718</th>\n",
       "      <td>2016-09-09 22:00:00.000 +0200</td>\n",
       "      <td>Partly Cloudy</td>\n",
       "      <td>rain</td>\n",
       "      <td>21.522222</td>\n",
       "      <td>21.522222</td>\n",
       "      <td>0.60</td>\n",
       "      <td>10.5294</td>\n",
       "      <td>20.0</td>\n",
       "      <td>16.1000</td>\n",
       "      <td>0.0</td>\n",
       "      <td>1015.95</td>\n",
       "      <td>Partly cloudy starting in the morning.</td>\n",
       "    </tr>\n",
       "    <tr>\n",
       "      <th>719</th>\n",
       "      <td>2016-09-09 23:00:00.000 +0200</td>\n",
       "      <td>Partly Cloudy</td>\n",
       "      <td>rain</td>\n",
       "      <td>20.438889</td>\n",
       "      <td>20.438889</td>\n",
       "      <td>0.61</td>\n",
       "      <td>5.8765</td>\n",
       "      <td>39.0</td>\n",
       "      <td>15.5204</td>\n",
       "      <td>0.0</td>\n",
       "      <td>1016.16</td>\n",
       "      <td>Partly cloudy starting in the morning.</td>\n",
       "    </tr>\n",
       "  </tbody>\n",
       "</table>\n",
       "<p>720 rows × 12 columns</p>\n",
       "</div>"
      ],
      "text/plain": [
       "                    Formatted Date        Summary Precip Type  \\\n",
       "0    2016-09-01 00:00:00.000 +0200          Clear        rain   \n",
       "1    2016-09-01 01:00:00.000 +0200          Clear        rain   \n",
       "2    2016-09-01 02:00:00.000 +0200          Clear        rain   \n",
       "3    2016-09-01 03:00:00.000 +0200          Clear        rain   \n",
       "4    2016-09-01 04:00:00.000 +0200          Clear        rain   \n",
       "..                             ...            ...         ...   \n",
       "715  2016-09-09 19:00:00.000 +0200  Partly Cloudy        rain   \n",
       "716  2016-09-09 20:00:00.000 +0200  Partly Cloudy        rain   \n",
       "717  2016-09-09 21:00:00.000 +0200  Partly Cloudy        rain   \n",
       "718  2016-09-09 22:00:00.000 +0200  Partly Cloudy        rain   \n",
       "719  2016-09-09 23:00:00.000 +0200  Partly Cloudy        rain   \n",
       "\n",
       "     Temperature (C)  Apparent Temperature (C)  Humidity  Wind Speed (km/h)  \\\n",
       "0          16.344444                 16.344444      0.60             6.1502   \n",
       "1          15.788889                 15.788889      0.62             6.1019   \n",
       "2          13.344444                 13.344444      0.73             3.2522   \n",
       "3          12.611111                 12.611111      0.75             3.2200   \n",
       "4          12.038889                 12.038889      0.78             0.0000   \n",
       "..               ...                       ...       ...                ...   \n",
       "715        26.016667                 26.016667      0.43            10.9963   \n",
       "716        24.583333                 24.583333      0.48            10.0947   \n",
       "717        22.038889                 22.038889      0.56             8.9838   \n",
       "718        21.522222                 21.522222      0.60            10.5294   \n",
       "719        20.438889                 20.438889      0.61             5.8765   \n",
       "\n",
       "     Wind Bearing (degrees)  Visibility (km)  Loud Cover  \\\n",
       "0                      40.0          16.1000         0.0   \n",
       "1                      69.0          16.1000         0.0   \n",
       "2                      56.0          15.1823         0.0   \n",
       "3                      20.0          16.1000         0.0   \n",
       "4                       0.0          16.1000         0.0   \n",
       "..                      ...              ...         ...   \n",
       "715                    31.0          16.1000         0.0   \n",
       "716                    20.0          15.5526         0.0   \n",
       "717                    30.0          16.1000         0.0   \n",
       "718                    20.0          16.1000         0.0   \n",
       "719                    39.0          15.5204         0.0   \n",
       "\n",
       "     Pressure (millibars)                                      Daily Summary  \n",
       "0                 1022.16  Partly cloudy starting in the morning continui...  \n",
       "1                 1022.05  Partly cloudy starting in the morning continui...  \n",
       "2                 1021.85  Partly cloudy starting in the morning continui...  \n",
       "3                 1021.84  Partly cloudy starting in the morning continui...  \n",
       "4                 1021.84  Partly cloudy starting in the morning continui...  \n",
       "..                    ...                                                ...  \n",
       "715               1014.36             Partly cloudy starting in the morning.  \n",
       "716               1015.16             Partly cloudy starting in the morning.  \n",
       "717               1015.66             Partly cloudy starting in the morning.  \n",
       "718               1015.95             Partly cloudy starting in the morning.  \n",
       "719               1016.16             Partly cloudy starting in the morning.  \n",
       "\n",
       "[720 rows x 12 columns]"
      ]
     },
     "execution_count": 4,
     "metadata": {},
     "output_type": "execute_result"
    }
   ],
   "source": [
    "df"
   ]
  },
  {
   "cell_type": "markdown",
   "metadata": {},
   "source": [
    " ### **ii. description of dataset**\n",
    "\n",
    "- This dataset consists of the weather records for a month taken with the observations being taken down and noted per hour.\n",
    "\n",
    "- It consists of various aspects of weather like precipitation, humidity, wind speed, wind bearing, visibiliry, loud cover, pressure, temperature, apparent temperature against a particular instant of time.\n",
    "\n",
    "- The summary and the daily summary are noted down appropriately as per the parameters collected.\n",
    "\n",
    "- Most of the parameters are numerical with the remaining few being categorical.\n",
    "\n",
    "- The objective of this project is to make optimum use of the dataset to extract maximum and most relevant information out of the dataset for various purposes.\n",
    "\n",
    "- The first section of the project would consist of descriptive statistics while the second half would contain inferential statistics.\n",
    "\n",
    "- With the help of the relationships generated between various variables, we can appropriately put this to a great use by inferring various parameters from it.\n",
    "\n",
    "- While this is just a sample of 720 records, we can easily put this to a great use to infer about various weather parameters on the other given days with optimal accuracy and precision along with mininal margin of error."
   ]
  },
  {
   "cell_type": "markdown",
   "metadata": {},
   "source": [
    "### **iii. Meaning of columns in the dataset**\n",
    "\n",
    "- **Formatted Date:** \n",
    " Denotes the particular time instance\n",
    "\n",
    "- **Summary:**\n",
    " Denotes the summary of the weather for that particular instance of time\n",
    "\n",
    "- **Precip Type:**\n",
    " Indicates the type of precipitation (Categorical variable)\n",
    "\n",
    "- **Temperature (C):**\n",
    " Denotes the absolute temperature in that period of time \n",
    "\n",
    "- **Apparent Temperature (C):** \n",
    " Denotes the temperature perceived by humans in that period of time\n",
    "\n",
    "- **Humidity:** \n",
    " Denotes the humidity in that period of time\n",
    "\n",
    "- **Wind Speed (km/h):** \n",
    " Denotes the wind speed in that period of time\n",
    "\n",
    "- **Wind Bearing (degrees):**\n",
    " Denotes the compass direction towards which an object is moving because of the wind\n",
    "\n",
    "- **Visibility (km):**\n",
    " Denotes the greatest distance upto which an object can be seen clearly\n",
    "\n",
    "- **Cloud Cover:**\n",
    " Refers to the fraction of the sky covered by the clouds \n",
    "\n",
    "- **Pressure (millibars):**\n",
    " Denotes the amount of pressure reading as displayed in the barometer\n",
    "\n",
    "- **Daily Summary:**\n",
    " Displays the weather summary for the whole day by implementing appropriate statistical measures across the period of 24 hours"
   ]
  },
  {
   "cell_type": "markdown",
   "metadata": {},
   "source": [
    "## b. data cleaning"
   ]
  },
  {
   "cell_type": "markdown",
   "metadata": {},
   "source": [
    "### i. handling of missing data by dropping:"
   ]
  },
  {
   "cell_type": "code",
   "execution_count": null,
   "metadata": {},
   "outputs": [],
   "source": []
  },
  {
   "cell_type": "markdown",
   "metadata": {},
   "source": [
    "### ii. handling of missing data by imputing:"
   ]
  },
  {
   "cell_type": "code",
   "execution_count": null,
   "metadata": {},
   "outputs": [],
   "source": []
  },
  {
   "cell_type": "markdown",
   "metadata": {},
   "source": [
    "### iii. handling via the best approach (if different from any of the methods mentioned above):"
   ]
  },
  {
   "cell_type": "code",
   "execution_count": null,
   "metadata": {},
   "outputs": [],
   "source": []
  },
  {
   "cell_type": "markdown",
   "metadata": {},
   "source": [
    "### iv. reasons for the above operations"
   ]
  },
  {
   "cell_type": "code",
   "execution_count": null,
   "metadata": {},
   "outputs": [],
   "source": []
  },
  {
   "cell_type": "markdown",
   "metadata": {},
   "source": [
    "## c. Removal of unwanted observations (duplicate/irrelevant/repetitive)"
   ]
  },
  {
   "cell_type": "code",
   "execution_count": null,
   "metadata": {},
   "outputs": [],
   "source": []
  },
  {
   "cell_type": "markdown",
   "metadata": {},
   "source": [
    "## d. Fixing of typos and inconsistent capitalization"
   ]
  },
  {
   "cell_type": "code",
   "execution_count": null,
   "metadata": {},
   "outputs": [],
   "source": []
  },
  {
   "cell_type": "markdown",
   "metadata": {},
   "source": [
    "_______________________________________________________________________________________________________________________________\n",
    "\n",
    "# 2. Graph visualization"
   ]
  },
  {
   "cell_type": "markdown",
   "metadata": {},
   "source": [
    "## a. visualization of dataset to extract meaningful insights"
   ]
  },
  {
   "cell_type": "code",
   "execution_count": null,
   "metadata": {},
   "outputs": [],
   "source": []
  },
  {
   "cell_type": "markdown",
   "metadata": {},
   "source": [
    "## b. implementation of graph visualization techniques (any 3) (most suitable)"
   ]
  },
  {
   "cell_type": "code",
   "execution_count": 5,
   "metadata": {},
   "outputs": [
    {
     "name": "stderr",
     "output_type": "stream",
     "text": [
      "c:\\users\\hkhas\\appdata\\local\\programs\\python\\python38\\lib\\site-packages\\seaborn\\_decorators.py:36: FutureWarning: Pass the following variable as a keyword arg: x. From version 0.12, the only valid positional argument will be `data`, and passing other arguments without an explicit keyword will result in an error or misinterpretation.\n",
      "  warnings.warn(\n"
     ]
    },
    {
     "data": {
      "image/png": "[encoded data removed]",
      "text/plain": [
       "<Figure size 1440x720 with 1 Axes>"
      ]
     },
     "metadata": {
      "needs_background": "light"
     },
     "output_type": "display_data"
    }
   ],
   "source": [
    "#number of hours for each summary category (in a month)\n",
    "\n",
    "plt.figure(figsize = (20,10))\n",
    "sns.countplot(df[\"Summary\"])\n",
    "plt.show()"
   ]
  },
  {
   "cell_type": "code",
   "execution_count": 6,
   "metadata": {},
   "outputs": [
    {
     "data": {
      "image/png": "[encoded data removed]",
      "text/plain": [
       "<Figure size 1440x720 with 1 Axes>"
      ]
     },
     "metadata": {
      "needs_background": "light"
     },
     "output_type": "display_data"
    }
   ],
   "source": [
    "# effect of weather on wind speed\n",
    "plt.figure(figsize = (20,10))\n",
    "sns.barplot(x = df[\"Summary\"],y = df[\"Wind Speed (km/h)\"])\n",
    "plt.show()"
   ]
  },
  {
   "cell_type": "code",
   "execution_count": 7,
   "metadata": {},
   "outputs": [
    {
     "data": {
      "image/png": "[encoded data removed]",
      "text/plain": [
       "<Figure size 1440x720 with 1 Axes>"
      ]
     },
     "metadata": {
      "needs_background": "light"
     },
     "output_type": "display_data"
    }
   ],
   "source": [
    "#effect of weather on temperature\n",
    "plt.figure(figsize = (20,10))\n",
    "sns.barplot(x = df[\"Summary\"],y = df[\"Temperature (C)\"])\n",
    "plt.show()"
   ]
  },
  {
   "cell_type": "code",
   "execution_count": 8,
   "metadata": {},
   "outputs": [
    {
     "data": {
      "image/png": "[encoded data removed]",
      "text/plain": [
       "<Figure size 1440x720 with 1 Axes>"
      ]
     },
     "metadata": {
      "needs_background": "light"
     },
     "output_type": "display_data"
    }
   ],
   "source": [
    "#effect of weather on visibility\n",
    "plt.figure(figsize = (20,10))\n",
    "sns.barplot(x = df[\"Summary\"],y = df[\"Visibility (km)\"])\n",
    "plt.show()"
   ]
  },
  {
   "cell_type": "code",
   "execution_count": 9,
   "metadata": {},
   "outputs": [
    {
     "data": {
      "image/png": "[encoded data removed]",
      "text/plain": [
       "<Figure size 1440x720 with 1 Axes>"
      ]
     },
     "metadata": {
      "needs_background": "light"
     },
     "output_type": "display_data"
    }
   ],
   "source": [
    "#effect of weather on humidity\n",
    "\n",
    "plt.figure(figsize = (20,10))\n",
    "sns.barplot(x = df[\"Summary\"],y = df[\"Humidity\"])\n",
    "plt.show()"
   ]
  },
  {
   "cell_type": "code",
   "execution_count": 10,
   "metadata": {},
   "outputs": [
    {
     "name": "stderr",
     "output_type": "stream",
     "text": [
      "c:\\users\\hkhas\\appdata\\local\\programs\\python\\python38\\lib\\site-packages\\seaborn\\_decorators.py:36: FutureWarning: Pass the following variable as a keyword arg: x. From version 0.12, the only valid positional argument will be `data`, and passing other arguments without an explicit keyword will result in an error or misinterpretation.\n",
      "  warnings.warn(\n"
     ]
    },
    {
     "data": {
      "text/markdown": [
       "#### References"
      ],
      "text/plain": [
       "<IPython.core.display.Markdown object>"
      ]
     },
     "metadata": {},
     "output_type": "display_data"
    },
    {
     "data": {
      "text/markdown": [
       "**Part-1**:"
      ],
      "text/plain": [
       "<IPython.core.display.Markdown object>"
      ]
     },
     "metadata": {},
     "output_type": "display_data"
    },
    {
     "data": {
      "text/markdown": [
       "* **Pc** = Partly Cloudy\n",
       "* **Mc** = Mostly Cloudy\n",
       "* **F** = Foggy\n",
       "* **O** = Overcast\n"
      ],
      "text/plain": [
       "<IPython.core.display.Markdown object>"
      ]
     },
     "metadata": {},
     "output_type": "display_data"
    },
    {
     "data": {
      "text/markdown": [
       "**Part-2**:"
      ],
      "text/plain": [
       "<IPython.core.display.Markdown object>"
      ]
     },
     "metadata": {},
     "output_type": "display_data"
    },
    {
     "data": {
      "text/markdown": [
       "* **sitm** = starting in the morning\n",
       "* **sita** = starting in the afternoon\n",
       "* **cun** = continuing till noon\n",
       "* **cue** = continuing till evening"
      ],
      "text/plain": [
       "<IPython.core.display.Markdown object>"
      ]
     },
     "metadata": {},
     "output_type": "display_data"
    },
    {
     "data": {
      "text/markdown": [
       "**Part-3**:"
      ],
      "text/plain": [
       "<IPython.core.display.Markdown object>"
      ]
     },
     "metadata": {},
     "output_type": "display_data"
    },
    {
     "data": {
      "text/markdown": [
       "* **ttd** = throughout the day\n",
       "* **so** = starting overnight\n",
       "* **o** = overnight"
      ],
      "text/plain": [
       "<IPython.core.display.Markdown object>"
      ]
     },
     "metadata": {},
     "output_type": "display_data"
    },
    {
     "data": {
      "image/png": "[encoded data removed]",
      "text/plain": [
       "<Figure size 1800x1080 with 1 Axes>"
      ]
     },
     "metadata": {},
     "output_type": "display_data"
    }
   ],
   "source": [
    "#count of daily weather summaries\n",
    "days = [i for i in range(0,719,24)]\n",
    "data_with_one_hour_per_day = df.iloc[days,:]\n",
    "\n",
    "def shorten(text):\n",
    "    if(text == 'NaN'):\n",
    "        return text\n",
    "    return(\"\".join([i[0] for i in text.split(\" \")]))\n",
    "\n",
    "data_with_one_hour_per_day_1=data_with_one_hour_per_day[\"Daily Summary\"].apply(shorten)\n",
    "\n",
    "sns.set(font_scale = 1.5)\n",
    "\n",
    "plt.figure(figsize = (25,15))\n",
    "p = sns.countplot(data_with_one_hour_per_day_1)\n",
    "\n",
    "printmd('#### References')\n",
    "printmd('**Part-1**:')\n",
    "printmd('* **Pc** = Partly Cloudy\\n* **Mc** = Mostly Cloudy\\n* **F** = Foggy\\n* **O** = Overcast\\n')\n",
    "printmd('**Part-2**:')\n",
    "printmd('* **sitm** = starting in the morning\\n* **sita** = starting in the afternoon\\n* **cun** = continuing till noon\\n* **cue** = continuing till evening')\n",
    "printmd(\"**Part-3**:\")\n",
    "printmd('* **ttd** = throughout the day\\n* **so** = starting overnight\\n* **o** = overnight')"
   ]
  },
  {
   "cell_type": "markdown",
   "metadata": {},
   "source": [
    "## c. filtering of unwanted outliers"
   ]
  },
  {
   "cell_type": "markdown",
   "metadata": {},
   "source": [
    "### i. via numerical methods (box plot/histogram)"
   ]
  },
  {
   "cell_type": "code",
   "execution_count": 11,
   "metadata": {},
   "outputs": [
    {
     "name": "stderr",
     "output_type": "stream",
     "text": [
      "c:\\users\\hkhas\\appdata\\local\\programs\\python\\python38\\lib\\site-packages\\seaborn\\_decorators.py:36: FutureWarning: Pass the following variable as a keyword arg: x. From version 0.12, the only valid positional argument will be `data`, and passing other arguments without an explicit keyword will result in an error or misinterpretation.\n",
      "  warnings.warn(\n"
     ]
    },
    {
     "data": {
      "image/png": "[encoded data removed]",
      "text/plain": [
       "<Figure size 432x288 with 1 Axes>"
      ]
     },
     "metadata": {},
     "output_type": "display_data"
    }
   ],
   "source": [
    "sns.boxplot(df[\"Wind Speed (km/h)\"])\n",
    "plt.show()"
   ]
  },
  {
   "cell_type": "code",
   "execution_count": 12,
   "metadata": {},
   "outputs": [
    {
     "name": "stderr",
     "output_type": "stream",
     "text": [
      "c:\\users\\hkhas\\appdata\\local\\programs\\python\\python38\\lib\\site-packages\\seaborn\\_decorators.py:36: FutureWarning: Pass the following variable as a keyword arg: x. From version 0.12, the only valid positional argument will be `data`, and passing other arguments without an explicit keyword will result in an error or misinterpretation.\n",
      "  warnings.warn(\n"
     ]
    },
    {
     "data": {
      "image/png": "[encoded data removed]",
      "text/plain": [
       "<Figure size 432x288 with 1 Axes>"
      ]
     },
     "metadata": {},
     "output_type": "display_data"
    }
   ],
   "source": [
    "sns.boxplot(df[\"Temperature (C)\"])\n",
    "plt.show()"
   ]
  },
  {
   "cell_type": "code",
   "execution_count": 13,
   "metadata": {},
   "outputs": [
    {
     "name": "stderr",
     "output_type": "stream",
     "text": [
      "c:\\users\\hkhas\\appdata\\local\\programs\\python\\python38\\lib\\site-packages\\seaborn\\_decorators.py:36: FutureWarning: Pass the following variable as a keyword arg: x. From version 0.12, the only valid positional argument will be `data`, and passing other arguments without an explicit keyword will result in an error or misinterpretation.\n",
      "  warnings.warn(\n"
     ]
    },
    {
     "data": {
      "image/png": "[encoded data removed]",
      "text/plain": [
       "<Figure size 432x288 with 1 Axes>"
      ]
     },
     "metadata": {},
     "output_type": "display_data"
    }
   ],
   "source": [
    "sns.boxplot(df[\"Humidity\"])\n",
    "plt.show()"
   ]
  },
  {
   "cell_type": "code",
   "execution_count": 14,
   "metadata": {},
   "outputs": [
    {
     "name": "stderr",
     "output_type": "stream",
     "text": [
      "c:\\users\\hkhas\\appdata\\local\\programs\\python\\python38\\lib\\site-packages\\seaborn\\_decorators.py:36: FutureWarning: Pass the following variable as a keyword arg: x. From version 0.12, the only valid positional argument will be `data`, and passing other arguments without an explicit keyword will result in an error or misinterpretation.\n",
      "  warnings.warn(\n"
     ]
    },
    {
     "data": {
      "image/png": "[encoded data removed]",
      "text/plain": [
       "<Figure size 432x288 with 1 Axes>"
      ]
     },
     "metadata": {},
     "output_type": "display_data"
    }
   ],
   "source": [
    "sns.boxplot(df[\"Visibility (km)\"])\n",
    "plt.show()"
   ]
  },
  {
   "cell_type": "markdown",
   "metadata": {},
   "source": [
    "### ii. categorical (bar chart)"
   ]
  },
  {
   "cell_type": "code",
   "execution_count": null,
   "metadata": {},
   "outputs": [],
   "source": []
  },
  {
   "cell_type": "markdown",
   "metadata": {},
   "source": [
    "# 3. normalization and standardization"
   ]
  },
  {
   "cell_type": "markdown",
   "metadata": {},
   "source": [
    "## a. mean and variance for each of the columns"
   ]
  },
  {
   "cell_type": "code",
   "execution_count": 15,
   "metadata": {},
   "outputs": [
    {
     "data": {
      "text/html": [
       "<div>\n",
       "<style scoped>\n",
       "    .dataframe tbody tr th:only-of-type {\n",
       "        vertical-align: middle;\n",
       "    }\n",
       "\n",
       "    .dataframe tbody tr th {\n",
       "        vertical-align: top;\n",
       "    }\n",
       "\n",
       "    .dataframe thead th {\n",
       "        text-align: right;\n",
       "    }\n",
       "</style>\n",
       "<table border=\"1\" class=\"dataframe\">\n",
       "  <thead>\n",
       "    <tr style=\"text-align: right;\">\n",
       "      <th></th>\n",
       "      <th>Mean</th>\n",
       "      <th>Variance</th>\n",
       "    </tr>\n",
       "  </thead>\n",
       "  <tbody>\n",
       "    <tr>\n",
       "      <th>Temperature (C)</th>\n",
       "      <td>18.469921</td>\n",
       "      <td>37.217922</td>\n",
       "    </tr>\n",
       "    <tr>\n",
       "      <th>Apparent Temperature (C)</th>\n",
       "      <td>18.370551</td>\n",
       "      <td>35.977549</td>\n",
       "    </tr>\n",
       "    <tr>\n",
       "      <th>Humidity</th>\n",
       "      <td>0.688442</td>\n",
       "      <td>0.045239</td>\n",
       "    </tr>\n",
       "    <tr>\n",
       "      <th>Wind Speed (km/h)</th>\n",
       "      <td>6.846503</td>\n",
       "      <td>22.696876</td>\n",
       "    </tr>\n",
       "    <tr>\n",
       "      <th>Wind Bearing (degrees)</th>\n",
       "      <td>177.278940</td>\n",
       "      <td>15462.123201</td>\n",
       "    </tr>\n",
       "    <tr>\n",
       "      <th>Visibility (km)</th>\n",
       "      <td>13.734376</td>\n",
       "      <td>10.880870</td>\n",
       "    </tr>\n",
       "    <tr>\n",
       "      <th>Loud Cover</th>\n",
       "      <td>0.000000</td>\n",
       "      <td>0.000000</td>\n",
       "    </tr>\n",
       "    <tr>\n",
       "      <th>Pressure (millibars)</th>\n",
       "      <td>1017.981389</td>\n",
       "      <td>26.506875</td>\n",
       "    </tr>\n",
       "  </tbody>\n",
       "</table>\n",
       "</div>"
      ],
      "text/plain": [
       "                                 Mean      Variance\n",
       "Temperature (C)             18.469921     37.217922\n",
       "Apparent Temperature (C)    18.370551     35.977549\n",
       "Humidity                     0.688442      0.045239\n",
       "Wind Speed (km/h)            6.846503     22.696876\n",
       "Wind Bearing (degrees)     177.278940  15462.123201\n",
       "Visibility (km)             13.734376     10.880870\n",
       "Loud Cover                   0.000000      0.000000\n",
       "Pressure (millibars)      1017.981389     26.506875"
      ]
     },
     "execution_count": 15,
     "metadata": {},
     "output_type": "execute_result"
    }
   ],
   "source": [
    "df_mean = pd.DataFrame(df.mean(), columns = [\"Mean\"])\n",
    "df_var = pd.DataFrame(df.var(), columns = [\"Variance\"])\n",
    "df_mean_var = pd.concat([df_mean, df_var], axis=1, sort=False)\n",
    "df_mean_var"
   ]
  },
  {
   "cell_type": "markdown",
   "metadata": {},
   "source": [
    "## b. normalization of all the numeric columns (to make mean 0 and variance 1)"
   ]
  },
  {
   "cell_type": "code",
   "execution_count": 16,
   "metadata": {},
   "outputs": [
    {
     "data": {
      "text/html": [
       "<div>\n",
       "<style scoped>\n",
       "    .dataframe tbody tr th:only-of-type {\n",
       "        vertical-align: middle;\n",
       "    }\n",
       "\n",
       "    .dataframe tbody tr th {\n",
       "        vertical-align: top;\n",
       "    }\n",
       "\n",
       "    .dataframe thead th {\n",
       "        text-align: right;\n",
       "    }\n",
       "</style>\n",
       "<table border=\"1\" class=\"dataframe\">\n",
       "  <thead>\n",
       "    <tr style=\"text-align: right;\">\n",
       "      <th></th>\n",
       "      <th>Formatted Date</th>\n",
       "      <th>Summary</th>\n",
       "      <th>Precip Type</th>\n",
       "      <th>Temperature (C)</th>\n",
       "      <th>Apparent Temperature (C)</th>\n",
       "      <th>Humidity</th>\n",
       "      <th>Wind Speed (km/h)</th>\n",
       "      <th>Wind Bearing (degrees)</th>\n",
       "      <th>Visibility (km)</th>\n",
       "      <th>Pressure (millibars)</th>\n",
       "      <th>Daily Summary</th>\n",
       "    </tr>\n",
       "  </thead>\n",
       "  <tbody>\n",
       "    <tr>\n",
       "      <th>0</th>\n",
       "      <td>2016-09-01 00:00:00.000 +0200</td>\n",
       "      <td>Clear</td>\n",
       "      <td>rain</td>\n",
       "      <td>-0.348402</td>\n",
       "      <td>-0.337790</td>\n",
       "      <td>-0.415817</td>\n",
       "      <td>-0.146155</td>\n",
       "      <td>-1.104001</td>\n",
       "      <td>0.717156</td>\n",
       "      <td>0.811620</td>\n",
       "      <td>Partly cloudy starting in the morning continui...</td>\n",
       "    </tr>\n",
       "    <tr>\n",
       "      <th>1</th>\n",
       "      <td>2016-09-01 01:00:00.000 +0200</td>\n",
       "      <td>Clear</td>\n",
       "      <td>rain</td>\n",
       "      <td>-0.439467</td>\n",
       "      <td>-0.430411</td>\n",
       "      <td>-0.321785</td>\n",
       "      <td>-0.156294</td>\n",
       "      <td>-0.870782</td>\n",
       "      <td>0.717156</td>\n",
       "      <td>0.790254</td>\n",
       "      <td>Partly cloudy starting in the morning continui...</td>\n",
       "    </tr>\n",
       "    <tr>\n",
       "      <th>2</th>\n",
       "      <td>2016-09-01 02:00:00.000 +0200</td>\n",
       "      <td>Clear</td>\n",
       "      <td>rain</td>\n",
       "      <td>-0.840153</td>\n",
       "      <td>-0.837946</td>\n",
       "      <td>0.195386</td>\n",
       "      <td>-0.754452</td>\n",
       "      <td>-0.975328</td>\n",
       "      <td>0.438949</td>\n",
       "      <td>0.751408</td>\n",
       "      <td>Partly cloudy starting in the morning continui...</td>\n",
       "    </tr>\n",
       "    <tr>\n",
       "      <th>3</th>\n",
       "      <td>2016-09-01 03:00:00.000 +0200</td>\n",
       "      <td>Clear</td>\n",
       "      <td>rain</td>\n",
       "      <td>-0.960358</td>\n",
       "      <td>-0.960206</td>\n",
       "      <td>0.289417</td>\n",
       "      <td>-0.761211</td>\n",
       "      <td>-1.264841</td>\n",
       "      <td>0.717156</td>\n",
       "      <td>0.749466</td>\n",
       "      <td>Partly cloudy starting in the morning continui...</td>\n",
       "    </tr>\n",
       "    <tr>\n",
       "      <th>4</th>\n",
       "      <td>2016-09-01 04:00:00.000 +0200</td>\n",
       "      <td>Clear</td>\n",
       "      <td>rain</td>\n",
       "      <td>-1.054155</td>\n",
       "      <td>-1.055606</td>\n",
       "      <td>0.430464</td>\n",
       "      <td>-1.437096</td>\n",
       "      <td>-1.425682</td>\n",
       "      <td>0.717156</td>\n",
       "      <td>0.749466</td>\n",
       "      <td>Partly cloudy starting in the morning continui...</td>\n",
       "    </tr>\n",
       "    <tr>\n",
       "      <th>...</th>\n",
       "      <td>...</td>\n",
       "      <td>...</td>\n",
       "      <td>...</td>\n",
       "      <td>...</td>\n",
       "      <td>...</td>\n",
       "      <td>...</td>\n",
       "      <td>...</td>\n",
       "      <td>...</td>\n",
       "      <td>...</td>\n",
       "      <td>...</td>\n",
       "      <td>...</td>\n",
       "    </tr>\n",
       "    <tr>\n",
       "      <th>715</th>\n",
       "      <td>2016-09-09 19:00:00.000 +0200</td>\n",
       "      <td>Partly Cloudy</td>\n",
       "      <td>rain</td>\n",
       "      <td>1.237040</td>\n",
       "      <td>1.274750</td>\n",
       "      <td>-1.215081</td>\n",
       "      <td>0.871052</td>\n",
       "      <td>-1.176379</td>\n",
       "      <td>0.717156</td>\n",
       "      <td>-0.703390</td>\n",
       "      <td>Partly cloudy starting in the morning.</td>\n",
       "    </tr>\n",
       "    <tr>\n",
       "      <th>716</th>\n",
       "      <td>2016-09-09 20:00:00.000 +0200</td>\n",
       "      <td>Partly Cloudy</td>\n",
       "      <td>rain</td>\n",
       "      <td>1.002092</td>\n",
       "      <td>1.035787</td>\n",
       "      <td>-0.980003</td>\n",
       "      <td>0.681804</td>\n",
       "      <td>-1.264841</td>\n",
       "      <td>0.551208</td>\n",
       "      <td>-0.548004</td>\n",
       "      <td>Partly cloudy starting in the morning.</td>\n",
       "    </tr>\n",
       "    <tr>\n",
       "      <th>717</th>\n",
       "      <td>2016-09-09 21:00:00.000 +0200</td>\n",
       "      <td>Partly Cloudy</td>\n",
       "      <td>rain</td>\n",
       "      <td>0.585014</td>\n",
       "      <td>0.611580</td>\n",
       "      <td>-0.603879</td>\n",
       "      <td>0.448623</td>\n",
       "      <td>-1.184421</td>\n",
       "      <td>0.717156</td>\n",
       "      <td>-0.450888</td>\n",
       "      <td>Partly cloudy starting in the morning.</td>\n",
       "    </tr>\n",
       "    <tr>\n",
       "      <th>718</th>\n",
       "      <td>2016-09-09 22:00:00.000 +0200</td>\n",
       "      <td>Partly Cloudy</td>\n",
       "      <td>rain</td>\n",
       "      <td>0.500324</td>\n",
       "      <td>0.525442</td>\n",
       "      <td>-0.415817</td>\n",
       "      <td>0.773048</td>\n",
       "      <td>-1.264841</td>\n",
       "      <td>0.717156</td>\n",
       "      <td>-0.394561</td>\n",
       "      <td>Partly cloudy starting in the morning.</td>\n",
       "    </tr>\n",
       "    <tr>\n",
       "      <th>719</th>\n",
       "      <td>2016-09-09 23:00:00.000 +0200</td>\n",
       "      <td>Partly Cloudy</td>\n",
       "      <td>rain</td>\n",
       "      <td>0.322747</td>\n",
       "      <td>0.344831</td>\n",
       "      <td>-0.368801</td>\n",
       "      <td>-0.203606</td>\n",
       "      <td>-1.112043</td>\n",
       "      <td>0.541446</td>\n",
       "      <td>-0.353772</td>\n",
       "      <td>Partly cloudy starting in the morning.</td>\n",
       "    </tr>\n",
       "  </tbody>\n",
       "</table>\n",
       "<p>720 rows × 11 columns</p>\n",
       "</div>"
      ],
      "text/plain": [
       "                    Formatted Date        Summary Precip Type  \\\n",
       "0    2016-09-01 00:00:00.000 +0200          Clear        rain   \n",
       "1    2016-09-01 01:00:00.000 +0200          Clear        rain   \n",
       "2    2016-09-01 02:00:00.000 +0200          Clear        rain   \n",
       "3    2016-09-01 03:00:00.000 +0200          Clear        rain   \n",
       "4    2016-09-01 04:00:00.000 +0200          Clear        rain   \n",
       "..                             ...            ...         ...   \n",
       "715  2016-09-09 19:00:00.000 +0200  Partly Cloudy        rain   \n",
       "716  2016-09-09 20:00:00.000 +0200  Partly Cloudy        rain   \n",
       "717  2016-09-09 21:00:00.000 +0200  Partly Cloudy        rain   \n",
       "718  2016-09-09 22:00:00.000 +0200  Partly Cloudy        rain   \n",
       "719  2016-09-09 23:00:00.000 +0200  Partly Cloudy        rain   \n",
       "\n",
       "     Temperature (C)  Apparent Temperature (C)  Humidity  Wind Speed (km/h)  \\\n",
       "0          -0.348402                 -0.337790 -0.415817          -0.146155   \n",
       "1          -0.439467                 -0.430411 -0.321785          -0.156294   \n",
       "2          -0.840153                 -0.837946  0.195386          -0.754452   \n",
       "3          -0.960358                 -0.960206  0.289417          -0.761211   \n",
       "4          -1.054155                 -1.055606  0.430464          -1.437096   \n",
       "..               ...                       ...       ...                ...   \n",
       "715         1.237040                  1.274750 -1.215081           0.871052   \n",
       "716         1.002092                  1.035787 -0.980003           0.681804   \n",
       "717         0.585014                  0.611580 -0.603879           0.448623   \n",
       "718         0.500324                  0.525442 -0.415817           0.773048   \n",
       "719         0.322747                  0.344831 -0.368801          -0.203606   \n",
       "\n",
       "     Wind Bearing (degrees)  Visibility (km)  Pressure (millibars)  \\\n",
       "0                 -1.104001         0.717156              0.811620   \n",
       "1                 -0.870782         0.717156              0.790254   \n",
       "2                 -0.975328         0.438949              0.751408   \n",
       "3                 -1.264841         0.717156              0.749466   \n",
       "4                 -1.425682         0.717156              0.749466   \n",
       "..                      ...              ...                   ...   \n",
       "715               -1.176379         0.717156             -0.703390   \n",
       "716               -1.264841         0.551208             -0.548004   \n",
       "717               -1.184421         0.717156             -0.450888   \n",
       "718               -1.264841         0.717156             -0.394561   \n",
       "719               -1.112043         0.541446             -0.353772   \n",
       "\n",
       "                                         Daily Summary  \n",
       "0    Partly cloudy starting in the morning continui...  \n",
       "1    Partly cloudy starting in the morning continui...  \n",
       "2    Partly cloudy starting in the morning continui...  \n",
       "3    Partly cloudy starting in the morning continui...  \n",
       "4    Partly cloudy starting in the morning continui...  \n",
       "..                                                 ...  \n",
       "715             Partly cloudy starting in the morning.  \n",
       "716             Partly cloudy starting in the morning.  \n",
       "717             Partly cloudy starting in the morning.  \n",
       "718             Partly cloudy starting in the morning.  \n",
       "719             Partly cloudy starting in the morning.  \n",
       "\n",
       "[720 rows x 11 columns]"
      ]
     },
     "execution_count": 16,
     "metadata": {},
     "output_type": "execute_result"
    }
   ],
   "source": [
    "normalized_df = df\n",
    "new_list = df.select_dtypes(include=np.number).columns.to_list() #List of numeric columns\n",
    "for e in new_list :\n",
    "        normalized_df[e] = (normalized_df[e] - normalized_df[e].mean())/normalized_df[e].std()\n",
    "        \n",
    "#Since the resulting dataset has a column, whose values do not change, we can drop it.\n",
    "normalized_df = normalized_df.drop(columns = 'Loud Cover')\n",
    "normalized_df\n",
    "#Normalized_df is the normalised dataset"
   ]
  },
  {
   "cell_type": "markdown",
   "metadata": {},
   "source": [
    "## c. reasons for the neccessity of normalization and the ways in which it affects datasets"
   ]
  },
  {
   "cell_type": "markdown",
   "metadata": {},
   "source": [
    "### Why should data be normalised and standardized :\n",
    "\n",
    "* **Standardizing the features around the center and 0 with a standard deviation of 1 is important when we compare measurements that have different units. When we want to analyse data that has more than one variables, which are measured using different scales, analysis without having a common center at zero and then scaling them down can cause bias. Variables with wider scale ranges can outweigh those which vary over a smaller range**\n",
    "\n",
    "* **Similarly, the goal of normalization is to change the values of numeric columns in the dataset to a common scale, without distorting differences in the ranges of values.**\n",
    "\n",
    "### How does normalization affect datasets :\n",
    "\n",
    "* **Standardization transforms a random variable to one with a mean of 0 and a standard deviation of 1.**\n",
    "\n",
    "* **A non standardized dataset can not be analysed if the data is of different scales, so standardizing it transforms it into the above mentioned without actually disturbing the distribution of the dataset.**\n",
    "\n",
    "* **Standardization does not affect outcomes that can be drawn from the data since it is only a transform that is performed on the dataset**"
   ]
  },
  {
   "cell_type": "markdown",
   "metadata": {},
   "source": [
    "## d. verification of the normality of data "
   ]
  },
  {
   "cell_type": "code",
   "execution_count": 17,
   "metadata": {},
   "outputs": [
    {
     "data": {
      "text/html": [
       "<div>\n",
       "<style scoped>\n",
       "    .dataframe tbody tr th:only-of-type {\n",
       "        vertical-align: middle;\n",
       "    }\n",
       "\n",
       "    .dataframe tbody tr th {\n",
       "        vertical-align: top;\n",
       "    }\n",
       "\n",
       "    .dataframe thead th {\n",
       "        text-align: right;\n",
       "    }\n",
       "</style>\n",
       "<table border=\"1\" class=\"dataframe\">\n",
       "  <thead>\n",
       "    <tr style=\"text-align: right;\">\n",
       "      <th></th>\n",
       "      <th>Mean</th>\n",
       "      <th>Variance</th>\n",
       "    </tr>\n",
       "  </thead>\n",
       "  <tbody>\n",
       "    <tr>\n",
       "      <th>Temperature (C)</th>\n",
       "      <td>-0.0</td>\n",
       "      <td>1.0</td>\n",
       "    </tr>\n",
       "    <tr>\n",
       "      <th>Apparent Temperature (C)</th>\n",
       "      <td>0.0</td>\n",
       "      <td>1.0</td>\n",
       "    </tr>\n",
       "    <tr>\n",
       "      <th>Humidity</th>\n",
       "      <td>0.0</td>\n",
       "      <td>1.0</td>\n",
       "    </tr>\n",
       "    <tr>\n",
       "      <th>Wind Speed (km/h)</th>\n",
       "      <td>0.0</td>\n",
       "      <td>1.0</td>\n",
       "    </tr>\n",
       "    <tr>\n",
       "      <th>Wind Bearing (degrees)</th>\n",
       "      <td>-0.0</td>\n",
       "      <td>1.0</td>\n",
       "    </tr>\n",
       "    <tr>\n",
       "      <th>Visibility (km)</th>\n",
       "      <td>0.0</td>\n",
       "      <td>1.0</td>\n",
       "    </tr>\n",
       "    <tr>\n",
       "      <th>Pressure (millibars)</th>\n",
       "      <td>-0.0</td>\n",
       "      <td>1.0</td>\n",
       "    </tr>\n",
       "  </tbody>\n",
       "</table>\n",
       "</div>"
      ],
      "text/plain": [
       "                          Mean  Variance\n",
       "Temperature (C)           -0.0       1.0\n",
       "Apparent Temperature (C)   0.0       1.0\n",
       "Humidity                   0.0       1.0\n",
       "Wind Speed (km/h)          0.0       1.0\n",
       "Wind Bearing (degrees)    -0.0       1.0\n",
       "Visibility (km)            0.0       1.0\n",
       "Pressure (millibars)      -0.0       1.0"
      ]
     },
     "execution_count": 17,
     "metadata": {},
     "output_type": "execute_result"
    }
   ],
   "source": [
    "df1 = pd.DataFrame(normalized_df.mean(), columns = [\"Mean\"]).round(10) #Mean rounded off to 10 decimal places\n",
    "\n",
    "df2 = pd.DataFrame(normalized_df.var(), columns = [\"Variance\"]) #Variance\n",
    "df3 = pd.concat([df1, df2], axis=1, sort=False)\n",
    "\n",
    "df3"
   ]
  },
  {
   "cell_type": "markdown",
   "metadata": {},
   "source": [
    "**Since the mean and variance of all the numerical columns have become 0 and 1 respectively, we can conclude that our data has been sucessfully normalized.**"
   ]
  },
  {
   "cell_type": "markdown",
   "metadata": {},
   "source": [
    "# 4. hypothesis testing"
   ]
  },
  {
   "cell_type": "markdown",
   "metadata": {},
   "source": [
    "### Consists of 2 types of hypotheses:\n",
    "- **H0**(Null hypothesis): Is usually the sample observations result purely from chance\n",
    "- **H1**(Alternate hypothesis): Is the hypothesis that sample observations are influenced by some non-random cause\n",
    "\n",
    "### While performing the hypothesis test:\n",
    "- We put the null hypothesis on trial\n",
    "- We begin by assumming that H0 is true\n",
    "- The random sample provides the evidence\n",
    "- The hypothesis test measures the strength of disagreement between the sample and H0"
   ]
  },
  {
   "cell_type": "markdown",
   "metadata": {},
   "source": [
    "## a. research hypothesis"
   ]
  },
  {
   "cell_type": "code",
   "execution_count": 18,
   "metadata": {},
   "outputs": [
    {
     "data": {
      "image/png": "[encoded data removed]",
      "text/plain": [
       "<Figure size 432x288 with 1 Axes>"
      ]
     },
     "metadata": {},
     "output_type": "display_data"
    },
    {
     "data": {
      "text/markdown": [
       "From the sample, we are confident that the inverse relationship between **Temperature(C)** and **Pressure(millibars)** is quite plausible"
      ],
      "text/plain": [
       "<IPython.core.display.Markdown object>"
      ]
     },
     "metadata": {},
     "output_type": "display_data"
    }
   ],
   "source": [
    "plt.scatter(df[\"Temperature (C)\"],df[\"Pressure (millibars)\"])\n",
    "plt.xlabel('Temperature (C)')\n",
    "plt.ylabel('Pressure (millibars)')\n",
    "plt.show()\n",
    "printmd(\"From the sample, we are confident that the inverse relationship between **Temperature(C)** and **Pressure(millibars)** is quite plausible\")"
   ]
  },
  {
   "cell_type": "markdown",
   "metadata": {},
   "source": [
    "### Can we prove that there is no apparent relationship between temperature and wind speed?\n",
    "\n",
    "The general assumption here is that the temperature and pressure are inversely related\n",
    "\n",
    "### Therefore:\n",
    "H0: "
   ]
  },
  {
   "cell_type": "markdown",
   "metadata": {},
   "source": [
    "## b. statistical tests"
   ]
  },
  {
   "cell_type": "code",
   "execution_count": null,
   "metadata": {},
   "outputs": [],
   "source": []
  },
  {
   "cell_type": "markdown",
   "metadata": {},
   "source": [
    "## c. hypothesis based on columns of our choice"
   ]
  },
  {
   "cell_type": "code",
   "execution_count": null,
   "metadata": {},
   "outputs": [],
   "source": []
  },
  {
   "cell_type": "markdown",
   "metadata": {},
   "source": [
    "## d. decision on whether the null hypothesis is supported or rejected"
   ]
  },
  {
   "cell_type": "code",
   "execution_count": null,
   "metadata": {},
   "outputs": [],
   "source": []
  },
  {
   "cell_type": "markdown",
   "metadata": {},
   "source": [
    "# 5. correlation"
   ]
  },
  {
   "cell_type": "markdown",
   "metadata": {},
   "source": [
    "## a. correlation b/w variables that are positively and negatively related"
   ]
  },
  {
   "cell_type": "code",
   "execution_count": null,
   "metadata": {},
   "outputs": [],
   "source": []
  },
  {
   "cell_type": "markdown",
   "metadata": {},
   "source": [
    "## b. inferences"
   ]
  },
  {
   "cell_type": "code",
   "execution_count": null,
   "metadata": {},
   "outputs": [],
   "source": []
  }
 ],
 "metadata": {
  "kernelspec": {
   "display_name": "Python 3",
   "language": "python",
   "name": "python3"
  },
  "language_info": {
   "codemirror_mode": {
    "name": "ipython",
    "version": 3
   },
   "file_extension": ".py",
   "mimetype": "text/x-python",
   "name": "python",
   "nbconvert_exporter": "python",
   "pygments_lexer": "ipython3",
   "version": "3.8.5"
  }
 },
 "nbformat": 4,
 "nbformat_minor": 4
}
